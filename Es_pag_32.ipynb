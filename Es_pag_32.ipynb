{
 "cells": [
  {
   "cell_type": "markdown",
   "id": "d5ab9280",
   "metadata": {},
   "source": [
    "## Programma Falling: Grafico dellqa velocità di un corpo in caduta libera. \n",
    "\n",
    "## Creato da S.Milani"
   ]
  },
  {
   "cell_type": "raw",
   "id": "3def819b",
   "metadata": {},
   "source": [
    "Variabili di input:\n",
    "tfinal = istante finale (in secondi)\n",
    "\n",
    "Variabili di output:\n",
    "t = array degli istanti di tempo in cui viene calcolatala velocità (secondi)\n",
    "v = array delle velcoità (metri/secondo)\n",
    "\n",
    "Valore del parametro:"
   ]
  },
  {
   "cell_type": "code",
   "execution_count": 1,
   "id": "cee7544b",
   "metadata": {},
   "outputs": [],
   "source": [
    "g = 9.81 #Accelerazione in unità SI\n",
    "\n",
    "import numpy as np\n",
    "import matplotlib.pyplot as plt\n",
    "import ipywidgets as widgets"
   ]
  },
  {
   "cell_type": "markdown",
   "id": "7ccdebb2",
   "metadata": {},
   "source": [
    "# Sezione di Input:"
   ]
  },
  {
   "cell_type": "code",
   "execution_count": 2,
   "id": "257cbf04",
   "metadata": {},
   "outputs": [
    {
     "name": "stdout",
     "output_type": "stream",
     "text": [
      "Digitare l istante finale in secondi: 10\n"
     ]
    }
   ],
   "source": [
    "tfinal = float(input('Digitare l'' istante finale in secondi: '))"
   ]
  },
  {
   "cell_type": "code",
   "execution_count": 3,
   "id": "4cc7b305",
   "metadata": {},
   "outputs": [],
   "source": [
    "dt = tfinal/500\n",
    "t = np.arange(0,tfinal,dt)\n",
    "v = g*t"
   ]
  },
  {
   "cell_type": "markdown",
   "id": "8da9d7db",
   "metadata": {},
   "source": [
    "## Sezione di Output"
   ]
  },
  {
   "cell_type": "code",
   "execution_count": 4,
   "id": "acc22b58",
   "metadata": {},
   "outputs": [
    {
     "data": {
      "text/plain": [
       "([<matplotlib.lines.Line2D at 0x21217f6b3a0>],\n",
       " Text(0.5, 0, 'Tempo (secondi)'),\n",
       " Text(0, 0.5, 'Velocità (metri/secondo)'),\n",
       " None)"
      ]
     },
     "execution_count": 4,
     "metadata": {},
     "output_type": "execute_result"
    },
    {
     "data": {
      "image/png": "[encoded data removed]",
      "text/plain": [
       "<Figure size 432x288 with 1 Axes>"
      ]
     },
     "metadata": {
      "needs_background": "light"
     },
     "output_type": "display_data"
    }
   ],
   "source": [
    "plt.plot(t,v),plt.xlabel('Tempo (secondi)'), plt.ylabel('Velocità (metri/secondo)'),plt.grid();"
   ]
  }
 ],
 "metadata": {
  "kernelspec": {
   "display_name": "Python 3",
   "language": "python",
   "name": "python3"
  },
  "language_info": {
   "codemirror_mode": {
    "name": "ipython",
    "version": 3
   },
   "file_extension": ".py",
   "mimetype": "text/x-python",
   "name": "python",
   "nbconvert_exporter": "python",
   "pygments_lexer": "ipython3",
   "version": "3.8.8"
  }
 },
 "nbformat": 4,
 "nbformat_minor": 5
}
